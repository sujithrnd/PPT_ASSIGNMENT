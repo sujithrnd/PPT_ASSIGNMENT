{
 "cells": [
  {
   "cell_type": "markdown",
   "id": "793cf3ee",
   "metadata": {},
   "source": [
    "# Assignment candidate : sujith k s mail id: sujithks81@gmail.com "
   ]
  },
  {
   "cell_type": "markdown",
   "id": "638a7df5",
   "metadata": {},
   "source": [
    "# Q1 <aside>\n",
    "💡 Given an array of integers nums and an integer target, return indices of the two numbers such that they add up to target.\n",
    "\n",
    "You may assume that each input would have exactly one solution, and you may not use the same element twice.\n",
    "\n",
    "You can return the answer in any order.\n"
   ]
  },
  {
   "cell_type": "code",
   "execution_count": 2,
   "id": "5f6e2ab0",
   "metadata": {},
   "outputs": [
    {
     "name": "stdout",
     "output_type": "stream",
     "text": [
      "sum= 17 values = 2 15\n",
      "The values gives the sum of target =  17  are  list[2, 15]\n"
     ]
    }
   ],
   "source": [
    "\n",
    "nums=[2,7,11,15]\n",
    "target=17\n",
    "sum=0\n",
    "\n",
    "def number_for_target_sum(nums,target):\n",
    "    for i in range(len(nums)):             \n",
    "             for  j in  range(i+1,len(nums)):                \n",
    "                #print(nums[i],nums[j])\n",
    "                sum=nums[i]+nums[j]                \n",
    "                if sum==target:\n",
    "                     print('sum=',sum ,'values =',nums[i],nums[j])\n",
    "                     return list[nums[i],nums[j]]\n",
    "\n",
    "              \n",
    "\n",
    "list=number_for_target_sum(nums,target)\n",
    "\n",
    "print('The values gives the sum of target = ',target,' are ',list)     \n"
   ]
  },
  {
   "cell_type": "markdown",
   "id": "10a066fb",
   "metadata": {},
   "source": [
    "# Q2\n",
    "Given an integer array nums and an integer val, remove all occurrences of val in nums in-place. The order of the elements may be changed. Then return the number of elements in nums which are not equal to val.\n",
    "\n",
    "Consider the number of elements in nums which are not equal to val be k, to get accepted, you need to do the following things:\n",
    "\n",
    "- Change the array nums such that the first k elements of nums contain the elements which are not equal to val. The remaining elements of nums are not important as well as the size of nums.\n",
    "- Return k.\n",
    "\n",
    "**Example :**\n",
    "Input: nums = [3,2,2,3], val = 3\n",
    "Output: 2, nums = [2,2,_*,_*]\n",
    "\n",
    "**Explanation:** Your function should return k = 2, with the first two elements of nums being 2. It does not matter what you leave beyond the returned k (hence they are underscores)[\n",
    "\n",
    "</aside>"
   ]
  },
  {
   "cell_type": "code",
   "execution_count": 13,
   "id": "13db94f1",
   "metadata": {},
   "outputs": [
    {
     "name": "stdout",
     "output_type": "stream",
     "text": [
      "The final array length is  4  with values - [2, 2, 4, 5]\n"
     ]
    }
   ],
   "source": [
    "#The array with multiple occurence\n",
    "nums = [3,2,2,3,4,5]\n",
    "#Value  to be removed\n",
    "val = 3 \n",
    "arr=[i for i in nums if i!=val]\n",
    "print('The final array length is ',len(arr),' with values -',arr)\n",
    "        "
   ]
  },
  {
   "cell_type": "markdown",
   "id": "9af3199e",
   "metadata": {},
   "source": [
    "Q3 💡 Given a sorted array of distinct integers and a target value, return the index if the target is found. If not, return the index where it would be if it were inserted in order.\n",
    "\n",
    "You must write an algorithm with O(log n) runtime complexity.\n",
    "\n",
    "**Example 1:**\n",
    "Input: nums = [1,3,5,6], target = 5\n",
    "\n",
    "Output: 2"
   ]
  },
  {
   "cell_type": "code",
   "execution_count": 5,
   "id": "87d435f8",
   "metadata": {},
   "outputs": [
    {
     "name": "stdout",
     "output_type": "stream",
     "text": [
      "index of  6 is @  3\n"
     ]
    }
   ],
   "source": [
    "nums = [1,3,5,6]\n",
    "target = 6\n",
    "def find_index(nums1,target):\n",
    "    if target not in nums1:\n",
    "        print('not in')\n",
    "        nums1.append(target)\n",
    "        nums1.sort() \n",
    "        print(nums1)\n",
    "    return nums1.index(target) \n",
    "\n",
    "print('index of ',target, 'is @ ',find_index(nums,target))    "
   ]
  },
  {
   "cell_type": "markdown",
   "id": "606dac7b",
   "metadata": {},
   "source": [
    "\n",
    "💡 **Q4.** You are given a large integer represented as an integer array digits, where each digits[i] is the ith digit of the integer. The digits are ordered from most significant to least significant in left-to-right order. The large integer does not contain any leading 0's.\n",
    "\n",
    "Increment the large integer by one and return the resulting array of digits.\n",
    "\n",
    "**Example 1:**\n",
    "Input: digits = [1,2,3]\n",
    "Output: [1,2,4]\n",
    "\n",
    "**Explanation:** The array represents the integer 123.\n",
    "\n",
    "Incrementing by one gives 123 + 1 = 124.\n",
    "Thus, the result should be [1,2,4].\n",
    "\n"
   ]
  },
  {
   "cell_type": "code",
   "execution_count": 1,
   "id": "a307b3e8",
   "metadata": {},
   "outputs": [
    {
     "name": "stdout",
     "output_type": "stream",
     "text": [
      "[1, 3, 0]\n"
     ]
    }
   ],
   "source": [
    "digits = [1,2,9]\n",
    "\n",
    "def incri_num_array(digits):\n",
    "    digits.reverse()\n",
    "    sum=0\n",
    "    for i in range(len(digits)):\n",
    "        sum=sum+digits[i]*(10**i)\n",
    "    sum+=1\n",
    "    #print(sum) \n",
    "    num_arr=[int(x) for x in str(sum)]\n",
    "    return num_arr\n",
    "final_num_arr=incri_num_array(digits)\n",
    "print(final_num_arr)"
   ]
  },
  {
   "cell_type": "markdown",
   "id": "45a81d51",
   "metadata": {},
   "source": [
    "Q5. You are given two integer arrays nums1 and nums2, sorted in non-decreasing order, and two integers m and n, representing the number of elements in nums1 and nums2 respectively.\n",
    "\n",
    "Merge nums1 and nums2 into a single array sorted in non-decreasing order.\n",
    "\n",
    "The final sorted array should not be returned by the function, but instead be stored inside the array nums1. To accommodate this, nums1 has a length of m + n, where the first m elements denote the elements that should be merged, and the last n elements are set to 0 and should be ignored. nums2 has a length of n.\n",
    "\n",
    "**Example 1:**\n",
    "Input: nums1 = [1,2,3,0,0,0], m = 3, nums2 = [2,5,6], n = 3\n",
    "Output: [1,2,2,3,5,6]\n",
    "\n",
    "**Explanation:** The arrays we are merging are [1,2,3] and [2,5,6].\n",
    "The result of the merge is [1,2,2,3,5,6] with the underlined elements coming from nums1.\n",
    "\n"
   ]
  },
  {
   "cell_type": "code",
   "execution_count": 21,
   "id": "770c5ff6",
   "metadata": {},
   "outputs": [
    {
     "name": "stdout",
     "output_type": "stream",
     "text": [
      "Filled zero with length of 2nd array [1, 2, 3, 0, 0, 0]\n",
      "Final merged array - [1, 2, 2, 3, 5, 6]\n"
     ]
    }
   ],
   "source": [
    "nums1 = [1,2,3]\n",
    "m = 3\n",
    "nums2 = [2,5,6]\n",
    "n = 3\n",
    "\n",
    "#filled zeros with the array with length of 2nd array\n",
    "nums1[m:]=[0]*n\n",
    "print('Filled zero with length of 2nd array',nums1)\n",
    "\n",
    "#copied the zeros in 1st array with 2nd array elements\n",
    "nums1[m:]=nums2[:]\n",
    "\n",
    "#sorting in order \n",
    "nums1.sort()\n",
    "\n",
    "#the final merged arary is\n",
    "print('Final merged array -',nums1)"
   ]
  },
  {
   "cell_type": "markdown",
   "id": "0402a792",
   "metadata": {},
   "source": [
    "\n",
    "Q6. Given an integer array nums, return true if any value appears at least twice in the array, and return false if every element is distinct.\n",
    "\n",
    "Example 1:\n",
    "Input: nums = [1,2,3,1]\n",
    "\n",
    "Output: true\n",
    "\n"
   ]
  },
  {
   "cell_type": "code",
   "execution_count": 21,
   "id": "851e89c3",
   "metadata": {},
   "outputs": [
    {
     "name": "stdout",
     "output_type": "stream",
     "text": [
      "Status of occurence are  (1, 'occurs 2 times so', True)\n"
     ]
    }
   ],
   "source": [
    "nums = [1,2,3,1]\n",
    "def occurence(nums):\n",
    "    for i in nums:\n",
    "        if nums.count(i)==2:\n",
    "            return i,'occurs 2 times so',True\n",
    "    if nums.count(i)==1:\n",
    "            return 0, 'All  all elements distinct ',False\n",
    "print('Status of occurence are ',occurence(nums))        "
   ]
  },
  {
   "cell_type": "markdown",
   "id": "12363406",
   "metadata": {},
   "source": [
    "Q7. Given an integer array nums, move all 0's to the end of it while maintaining the relative order of the nonzero elements.\n",
    "\n",
    "Note that you must do this in-place without making a copy of the array.\n",
    "\n",
    "Example 1:\n",
    "Input: nums = [0,1,0,3,12]\n",
    "Output: [1,3,12,0,0]\n",
    "\n"
   ]
  },
  {
   "cell_type": "code",
   "execution_count": 59,
   "id": "8ca7095e",
   "metadata": {},
   "outputs": [
    {
     "name": "stdout",
     "output_type": "stream",
     "text": [
      "Array with zeros moved end [1, 3, 12, 0, 0]\n"
     ]
    }
   ],
   "source": [
    "nums = [0,1,0,3,12]\n",
    "\n",
    "def fun(nums):\n",
    "    non_zero_index=0\n",
    "    for i in nums:\n",
    "        if i!=0:\n",
    "            nums[non_zero_index]=i\n",
    "            non_zero_index+=1\n",
    "    nums[non_zero_index:]    =[0]*(len(nums)-non_zero_index)    \n",
    "        #print(non_zero_index)        \n",
    "        #print(nums)  \n",
    "    return nums\n",
    "print('Array with zeros moved end', fun(nums))\n"
   ]
  },
  {
   "cell_type": "code",
   "execution_count": null,
   "id": "02e2d73c",
   "metadata": {},
   "outputs": [],
   "source": []
  }
 ],
 "metadata": {
  "kernelspec": {
   "display_name": "Python 3 (ipykernel)",
   "language": "python",
   "name": "python3"
  },
  "language_info": {
   "codemirror_mode": {
    "name": "ipython",
    "version": 3
   },
   "file_extension": ".py",
   "mimetype": "text/x-python",
   "name": "python",
   "nbconvert_exporter": "python",
   "pygments_lexer": "ipython3",
   "version": "3.10.9"
  }
 },
 "nbformat": 4,
 "nbformat_minor": 5
}
