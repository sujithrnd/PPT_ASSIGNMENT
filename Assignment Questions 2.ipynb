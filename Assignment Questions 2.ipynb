{
 "cells": [
  {
   "cell_type": "markdown",
   "id": "9a802fd6",
   "metadata": {},
   "source": [
    "# Question 1\n",
    "Given an integer array nums of 2n integers, group these integers into n pairs (a1, b1), (a2, b2),..., (an, bn) such that the sum of min(ai, bi) for all i is maximized. Return the maximized sum.\n",
    "\n",
    "**Example 1:**\n",
    "Input: nums = [1,4,3,2]\n",
    "Output: 4\n",
    "\n",
    "**Explanation:** All possible pairings (ignoring the ordering of elements) are:\n",
    "\n",
    "1. (1, 4), (2, 3) -> min(1, 4) + min(2, 3) = 1 + 2 = 3\n",
    "2. (1, 3), (2, 4) -> min(1, 3) + min(2, 4) = 1 + 2 = 3\n",
    "3. (1, 2), (3, 4) -> min(1, 2) + min(3, 4) = 1 + 3 = 4\n",
    "So the maximum possible sum is 4\n",
    "</aside>"
   ]
  },
  {
   "cell_type": "code",
   "execution_count": 1,
   "id": "5e0b25e1",
   "metadata": {},
   "outputs": [
    {
     "name": "stdout",
     "output_type": "stream",
     "text": [
      "Max sum from the min of the pair, comb: 8\n"
     ]
    }
   ],
   "source": [
    "nums = [1,4,3,2]\n",
    "def max_sum_from_min_of_pair(nums):\n",
    "    #nums.sort()\n",
    "    nums_pair=[]\n",
    "    max_sum=0\n",
    "    for i in range(len(nums)):\n",
    "        for j in range(i+1,len(nums)):\n",
    "            #print(nums[i],nums[j])\n",
    "            nums_pair.append([nums[i],nums[j]])\n",
    "    #print(nums_pair)\n",
    "\n",
    "    for i in range(len(nums_pair)):\n",
    "        for j in range(i+1,len(nums_pair)):\n",
    "            \n",
    "            sum =nums_pair[i][0] +nums_pair[j][0]\n",
    "            #print(nums_pair[i],nums_pair[j],' & sum : ',sum)\n",
    "            if max_sum < (sum):\n",
    "                max_sum =sum\n",
    "    return max_sum                \n",
    "\n",
    "print('Max sum from the min of the pair, comb:',max_sum_from_min_of_pair(nums)) "
   ]
  },
  {
   "cell_type": "markdown",
   "id": "ff9abf68",
   "metadata": {},
   "source": [
    "# Question 2\n",
    "Alice has n candies, where the ith candy is of type candyType[i]. Alice noticed that she started to gain weight, so she visited a doctor. \n",
    "\n",
    "The doctor advised Alice to only eat n / 2 of the candies she has (n is always even). Alice likes her candies very much, and she wants to eat the maximum number of different types of candies while still following the doctor's advice. \n",
    "\n",
    "Given the integer array candyType of length n, return the maximum number of different types of candies she can eat if she only eats n / 2 of them.\n",
    "\n",
    "Example 1:\n",
    "Input: candyType = [1,1,2,2,3,3]\n",
    "Output: 3\n",
    "\n",
    "Explanation: Alice can only eat 6 / 2 = 3 candies. Since there are only 3 types, she can eat one of each type."
   ]
  },
  {
   "cell_type": "code",
   "execution_count": 2,
   "id": "30708cc6",
   "metadata": {},
   "outputs": [
    {
     "name": "stdout",
     "output_type": "stream",
     "text": [
      "permitted_count: 6.0\n",
      "Distinct candy count  which  Alice can eat is  4  & those are  [1, 2, 3, 7]\n"
     ]
    }
   ],
   "source": [
    "\n",
    "candyType = [1,1,2,2,3,3,7,7,7,7,7,7]\n",
    "def distinct_candy_types(candyType):\n",
    "    #candyType_distinct=set(candyType)\n",
    "    permitted_count=len(candyType)/2\n",
    "    print('permitted_count:',permitted_count)\n",
    "    candyType_distinct=[]\n",
    "\n",
    "    for i in candyType:\n",
    "        if i not in candyType_distinct:\n",
    "            candyType_distinct.append(i)\n",
    "    return candyType_distinct            \n",
    "\n",
    "\n",
    "candy_types=distinct_candy_types(candyType)\n",
    "print('Distinct candy count  which  Alice can eat is ',len(candy_types),' & those are ',candy_types)    "
   ]
  },
  {
   "cell_type": "markdown",
   "id": "3d3ae98a",
   "metadata": {},
   "source": [
    "# Question 3\n",
    "We define a harmonious array as an array where the difference between its maximum value\n",
    "and its minimum value is exactly 1.\n",
    "\n",
    "Given an integer array nums, return the length of its longest harmonious subsequence\n",
    "among all its possible subsequences.\n",
    "\n",
    "A subsequence of an array is a sequence that can be derived from the array by deleting some or no elements without changing the order of the remaining elements.\n",
    "\n",
    "Example 1:\n",
    "Input: nums = [1,3,2,2,5,2,3,7]\n",
    "Output: 5\n",
    "\n",
    "Explanation: The longest harmonious subsequence is [3,2,2,2,3]."
   ]
  },
  {
   "cell_type": "code",
   "execution_count": 3,
   "id": "4137e6f9",
   "metadata": {},
   "outputs": [
    {
     "name": "stdout",
     "output_type": "stream",
     "text": [
      "find_length_harmonious: 5\n"
     ]
    }
   ],
   "source": [
    "def find_length_harmonious(nums):\n",
    "    nums.sort()\n",
    "    max_length = 0\n",
    "    start = 0\n",
    "\n",
    "    for end in range(len(nums)):\n",
    "        while nums[end] - nums[start] > 1:\n",
    "            start += 1\n",
    "\n",
    "        if nums[end] - nums[start] == 1:\n",
    "            length = end - start + 1\n",
    "            max_length = max(max_length, length)\n",
    "\n",
    "    return max_length\n",
    "nums = [1,3,2,2,5,2,3,7]\n",
    "print('find_length_harmonious:',find_length_harmonious(nums))"
   ]
  },
  {
   "cell_type": "markdown",
   "id": "11080e9b",
   "metadata": {},
   "source": [
    "# Question 4\n",
    "You have a long flowerbed in which some of the plots are planted, and some are not.\n",
    "However, flowers cannot be planted in adjacent plots.\n",
    "Given an integer array flowerbed containing 0's and 1's, where 0 means empty and 1 means not empty, and an integer n, return true if n new flowers can be planted in the flowerbed without violating the no-adjacent-flowers rule and false otherwise.\n",
    "\n",
    "Example 1:\n",
    "Input: flowerbed = [1,0,0,0,1], n = 1\n",
    "Output: true"
   ]
  },
  {
   "cell_type": "code",
   "execution_count": 4,
   "id": "6ed9c60c",
   "metadata": {},
   "outputs": [
    {
     "name": "stdout",
     "output_type": "stream",
     "text": [
      "True\n"
     ]
    }
   ],
   "source": [
    "def place_flower(flowerbed, n):\n",
    "    size = len(flowerbed)\n",
    "    count = 0\n",
    "    i = 0\n",
    "\n",
    "    while i < size:\n",
    "        if flowerbed[i] == 0 and (i == 0 or flowerbed[i-1] == 0) and (i == size-1 or flowerbed[i+1] == 0):\n",
    "            flowerbed[i] = 1\n",
    "            count += 1\n",
    "        i += 1\n",
    "\n",
    "    return count >= n\n",
    "flowerbed1 = [1, 0, 0, 0, 1]\n",
    "n1 = 1\n",
    "print(place_flower(flowerbed1, n1))"
   ]
  },
  {
   "cell_type": "markdown",
   "id": "9ee9db8d",
   "metadata": {},
   "source": [
    "# Question 5\n",
    "Given an integer array nums, find three numbers whose product is maximum and return the maximum product.\n",
    "\n",
    "Example 1:\n",
    "Input: nums = [1,2,3]\n",
    "Output: 6"
   ]
  },
  {
   "cell_type": "code",
   "execution_count": 5,
   "id": "a999f853",
   "metadata": {},
   "outputs": [
    {
     "name": "stdout",
     "output_type": "stream",
     "text": [
      "The max 3 digit product - 90\n"
     ]
    }
   ],
   "source": [
    "def maximumProduct(nums):\n",
    "    #soert array in asc order\n",
    "    nums.sort()    \n",
    "    l=len(nums)\n",
    "    #Return the last 3 digits product is the max 3 digit product\n",
    "    return (nums[l-1]*nums[l-2]*nums[l-3])\n",
    "\n",
    "# Example usage\n",
    "nums = [2,5,6,3]#60\n",
    "\n",
    "\n",
    "print('The max 3 digit product -',maximumProduct(nums))  # Output: 6"
   ]
  },
  {
   "cell_type": "markdown",
   "id": "25efd010",
   "metadata": {},
   "source": [
    "# Question 6\n",
    "Given an array of integers nums which is sorted in ascending order, and an integer target,\n",
    "write a function to search target in nums. If target exists, then return its index. Otherwise,\n",
    "return -1.\n",
    "\n",
    "You must write an algorithm with O(log n) runtime complexity.\n",
    "\n",
    "Input: nums = [-1,0,3,5,9,12], target = 9\n",
    "Output: 4\n",
    "\n",
    "Explanation: 9 exists in nums and its index is 4"
   ]
  },
  {
   "cell_type": "code",
   "execution_count": 6,
   "id": "6c16d3a7",
   "metadata": {},
   "outputs": [
    {
     "name": "stdout",
     "output_type": "stream",
     "text": [
      "Index of  9  is at - 4\n"
     ]
    }
   ],
   "source": [
    "def find_index(nums1,target1):\n",
    " \n",
    "    for i in range(0,len(nums1)):\n",
    "        if nums1[i]==target1:\n",
    "            break\n",
    "    return i\n",
    " \n",
    "\n",
    "\n",
    "\n",
    "nums = [-1,0,3,5,9,12]\n",
    "target = 9\n",
    "index=find_index(nums,target)\n",
    "print('Index of ',target,' is at -',index)\n"
   ]
  },
  {
   "cell_type": "markdown",
   "id": "443a26f8",
   "metadata": {},
   "source": [
    "# Question 7\n",
    "An array is monotonic if it is either monotone increasing or monotone decreasing.\n",
    "\n",
    "An array nums is monotone increasing if for all i <= j, nums[i] <= nums[j]. An array nums is\n",
    "monotone decreasing if for all i <= j, nums[i] >= nums[j].\n",
    "\n",
    "Given an integer array nums, return true if the given array is monotonic, or false otherwise.\n",
    "\n",
    "Example 1:\n",
    "Input: nums = [1,2,2,3]\n",
    "Output: true"
   ]
  },
  {
   "cell_type": "code",
   "execution_count": 7,
   "id": "1dcef5ff",
   "metadata": {},
   "outputs": [
    {
     "name": "stdout",
     "output_type": "stream",
     "text": [
      "Array monotonos - True\n"
     ]
    }
   ],
   "source": [
    "def is_monotonic(nums):\n",
    "\n",
    "    for i in range(0,len(nums)-1):\n",
    "        #for j in range(i+1,len(nums)):\n",
    "        #print(nums[i],nums[i+1])\n",
    "        if nums[i]<=nums[i+1]  :\n",
    "         pass\n",
    "        else:return False\n",
    "\n",
    "    return True\n",
    "    \n",
    "nums = [1,2,2,7]  \n",
    "print('Array monotonos -',is_monotonic(nums))    "
   ]
  },
  {
   "cell_type": "markdown",
   "id": "6a6c0c52",
   "metadata": {},
   "source": [
    "# Question 8\n",
    "You are given an integer array nums and an integer k.\n",
    "\n",
    "In one operation, you can choose any index i where 0 <= i < nums.length and change nums[i] to nums[i] + x where x is an integer from the range [-k, k]. You can apply this operation at most once for each index i.\n",
    "\n",
    "The score of nums is the difference between the maximum and minimum elements in nums.\n",
    "\n",
    "Return the minimum score of nums after applying the mentioned operation at most once for each index in it.\n",
    "\n",
    "Example 1:\n",
    "Input: nums = [1], k = 0\n",
    "Output: 0\n",
    "\n",
    "Explanation: The score is max(nums) - min(nums) = 1 - 1 = 0"
   ]
  },
  {
   "cell_type": "code",
   "execution_count": 8,
   "id": "49237b39",
   "metadata": {},
   "outputs": [
    {
     "name": "stdout",
     "output_type": "stream",
     "text": [
      "0\n"
     ]
    }
   ],
   "source": [
    "def min_score(nums, k):\n",
    "    if len(nums) == 1:\n",
    "        return 0\n",
    "\n",
    "    nums.sort()\n",
    "    max_val = min_scorenums[-1]\n",
    "    min_val = nums[0]\n",
    "\n",
    "    if max_val - min_val <= 2 * k:\n",
    "        return max_val - min_val - 2 * k\n",
    "    else:\n",
    "        return max_val - min_val\n",
    "nums = [1]\n",
    "k = 0\n",
    "print(min_score(nums, k))  \n"
   ]
  },
  {
   "cell_type": "code",
   "execution_count": null,
   "id": "75f1d211",
   "metadata": {},
   "outputs": [],
   "source": []
  }
 ],
 "metadata": {
  "kernelspec": {
   "display_name": "Python 3 (ipykernel)",
   "language": "python",
   "name": "python3"
  },
  "language_info": {
   "codemirror_mode": {
    "name": "ipython",
    "version": 3
   },
   "file_extension": ".py",
   "mimetype": "text/x-python",
   "name": "python",
   "nbconvert_exporter": "python",
   "pygments_lexer": "ipython3",
   "version": "3.10.9"
  }
 },
 "nbformat": 4,
 "nbformat_minor": 5
}
